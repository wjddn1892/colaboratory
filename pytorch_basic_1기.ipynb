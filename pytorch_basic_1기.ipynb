{
  "nbformat": 4,
  "nbformat_minor": 0,
  "metadata": {
    "colab": {
      "name": "pytorch basic 1기.ipynb",
      "provenance": [],
      "collapsed_sections": [],
      "authorship_tag": "ABX9TyPY/wSSWOklePIaHJJYzbxG",
      "include_colab_link": true
    },
    "kernelspec": {
      "name": "python3",
      "display_name": "Python 3"
    },
    "language_info": {
      "name": "python"
    }
  },
  "cells": [
    {
      "cell_type": "markdown",
      "metadata": {
        "id": "view-in-github",
        "colab_type": "text"
      },
      "source": [
        "<a href=\"https://colab.research.google.com/github/wjddn1892/colaboratory/blob/main/pytorch_basic_1%EA%B8%B0.ipynb\" target=\"_parent\"><img src=\"https://colab.research.google.com/assets/colab-badge.svg\" alt=\"Open In Colab\"/></a>"
      ]
    },
    {
      "cell_type": "markdown",
      "source": [
        "## 넘파이와 닮은 파이토치 (Pytorch)"
      ],
      "metadata": {
        "id": "kJ_7mZ85drkC"
      }
    },
    {
      "cell_type": "code",
      "source": [
        "import torch\n",
        "a = torch.tensor([1, 2, 3, 4])\n",
        "print(a)\n",
        "torch.log(a)  # log는 입력이 tensor만 가능\n",
        "print(type(a))\n",
        "print(a.dtype)\n",
        "print(a.shape)\n",
        "b = torch.tensor([1, 2, 3.14])\n",
        "print(b.dtype)"
      ],
      "metadata": {
        "id": "CGlGF9Geh7MN",
        "colab": {
          "base_uri": "https://localhost:8080/"
        },
        "outputId": "bbfdce8a-373c-4552-c1e3-338c065e38ce"
      },
      "execution_count": 1,
      "outputs": [
        {
          "output_type": "stream",
          "name": "stdout",
          "text": [
            "tensor([1, 2, 3, 4])\n",
            "<class 'torch.Tensor'>\n",
            "torch.int64\n",
            "torch.Size([4])\n",
            "torch.float32\n"
          ]
        }
      ]
    },
    {
      "cell_type": "code",
      "source": [
        "A = torch.tensor([[1, 2], [3, 4], [5, 6]])\n",
        "print(A)\n",
        "print(A.shape)\n",
        "print(A.ndim)\n",
        "print(A.numel())  # 행렬의 element 수 (number of element?)"
      ],
      "metadata": {
        "colab": {
          "base_uri": "https://localhost:8080/"
        },
        "id": "mWyQX3sOfJEN",
        "outputId": "853e9704-5a07-4b8c-8071-e74785a9b759"
      },
      "execution_count": 57,
      "outputs": [
        {
          "output_type": "stream",
          "name": "stdout",
          "text": [
            "tensor([[1, 2],\n",
            "        [3, 4],\n",
            "        [5, 6]])\n",
            "torch.Size([3, 2])\n",
            "2\n",
            "6\n"
          ]
        }
      ]
    },
    {
      "cell_type": "code",
      "source": [
        "print(torch.zeros(3, 3))\n",
        "print(torch.ones(3, 3))\n",
        "print(torch.arange(3, 10, 2))\n",
        "print(torch.arange(0, 1, 0.1))  # 소수점 가능, 1 포함 x\n",
        "print(torch.linspace(0, 1, 10)) # 0에서 1포함 10개"
      ],
      "metadata": {
        "colab": {
          "base_uri": "https://localhost:8080/"
        },
        "id": "0o8htffWgeiL",
        "outputId": "ca391c59-ca1d-4858-c6c9-bb14ddb035f2"
      },
      "execution_count": 60,
      "outputs": [
        {
          "output_type": "stream",
          "name": "stdout",
          "text": [
            "tensor([[0., 0., 0.],\n",
            "        [0., 0., 0.],\n",
            "        [0., 0., 0.]])\n",
            "tensor([[1., 1., 1.],\n",
            "        [1., 1., 1.],\n",
            "        [1., 1., 1.]])\n",
            "tensor([3, 5, 7, 9])\n",
            "tensor([0.0000, 0.1000, 0.2000, 0.3000, 0.4000, 0.5000, 0.6000, 0.7000, 0.8000,\n",
            "        0.9000])\n",
            "tensor([0.0000, 0.1111, 0.2222, 0.3333, 0.4444, 0.5556, 0.6667, 0.7778, 0.8889,\n",
            "        1.0000])\n"
          ]
        }
      ]
    },
    {
      "cell_type": "code",
      "source": [
        "print([1, 2, 3] + [4, 5, 6])\n",
        "a = torch.tensor([1, 2, 3])\n",
        "b = torch.tensor([4, 5, 6])\n",
        "c = a + b\n",
        "print(c)"
      ],
      "metadata": {
        "colab": {
          "base_uri": "https://localhost:8080/"
        },
        "id": "RJ3S-m10hX3D",
        "outputId": "c81b3340-0a65-44f3-c749-72ffd222a535"
      },
      "execution_count": 4,
      "outputs": [
        {
          "output_type": "stream",
          "name": "stdout",
          "text": [
            "[1, 2, 3, 4, 5, 6]\n",
            "tensor([5, 7, 9])\n"
          ]
        }
      ]
    },
    {
      "cell_type": "code",
      "source": [
        "A = torch.tensor([[1, 2, 3], [4, 5, 6]])\n",
        "B = torch.tensor([[4, 5, 6], [1, 1, 1]])\n",
        "C = A + B\n",
        "D = A - B\n",
        "print(C)\n",
        "print(D)\n",
        "print(A*B)  # component끼리의 곱\n",
        "print(A/B)  # /도 마찬가지\n",
        "print(B**2) # 제곱도 마찬가지"
      ],
      "metadata": {
        "colab": {
          "base_uri": "https://localhost:8080/"
        },
        "id": "pBABhn3ehp8O",
        "outputId": "16006fb5-b92a-4d40-bc95-7f04c1680ad7"
      },
      "execution_count": 5,
      "outputs": [
        {
          "output_type": "stream",
          "name": "stdout",
          "text": [
            "tensor([[5, 7, 9],\n",
            "        [5, 6, 7]])\n",
            "tensor([[-3, -3, -3],\n",
            "        [ 3,  4,  5]])\n",
            "tensor([[ 4, 10, 18],\n",
            "        [ 4,  5,  6]])\n",
            "tensor([[0.2500, 0.4000, 0.5000],\n",
            "        [4.0000, 5.0000, 6.0000]])\n",
            "tensor([[16, 25, 36],\n",
            "        [ 1,  1,  1]])\n"
          ]
        }
      ]
    },
    {
      "cell_type": "code",
      "source": [
        "A = torch.tensor([[1, 2], [3, 4]])\n",
        "B = torch.tensor([[1, 2], [3, 4]])\n",
        "print(A*B)  # 요소 곱\n",
        "print(A@B)  # 행렬 곱, A.matmul(B), A.mm(B)"
      ],
      "metadata": {
        "colab": {
          "base_uri": "https://localhost:8080/"
        },
        "id": "6Qups6zgiSGp",
        "outputId": "f62d54ec-1952-4d04-b83b-bacdc203ad60"
      },
      "execution_count": 63,
      "outputs": [
        {
          "output_type": "stream",
          "name": "stdout",
          "text": [
            "tensor([[ 1,  4],\n",
            "        [ 9, 16]])\n",
            "tensor([[ 7, 10],\n",
            "        [15, 22]])\n"
          ]
        }
      ]
    },
    {
      "cell_type": "code",
      "source": [
        "# 행렬에 대한 인덱싱과 슬라이싱\n",
        "A = torch.tensor([[1, 2, 3, 4], [5, 6, 7, 8]])\n",
        "print(A[0])\n",
        "print(A[0][2])\n",
        "print(A[0, 2])  # 2차원 행렬도 동일한데, 리스트와 달리 이런 것도 됨\n",
        "print(A[1,:])  # 2행 전부\n",
        "print(A[:,3])   # 4열 전부"
      ],
      "metadata": {
        "colab": {
          "base_uri": "https://localhost:8080/"
        },
        "id": "zKmsWrUKi01z",
        "outputId": "b48d766e-c037-4bae-bba1-c23a44f2654b"
      },
      "execution_count": 70,
      "outputs": [
        {
          "output_type": "stream",
          "name": "stdout",
          "text": [
            "tensor([1, 2, 3, 4])\n",
            "tensor(3)\n",
            "tensor(3)\n",
            "tensor([5, 6, 7, 8])\n",
            "tensor([4, 8])\n"
          ]
        }
      ]
    },
    {
      "cell_type": "code",
      "source": [
        "a = torch.tensor([[1, 2, 3]])\n",
        "a[False, False, False]\n",
        "print(a)"
      ],
      "metadata": {
        "colab": {
          "base_uri": "https://localhost:8080/"
        },
        "id": "yxdim443o-IK",
        "outputId": "6168461e-67b9-4c50-d08a-cb8fed75bba3"
      },
      "execution_count": 88,
      "outputs": [
        {
          "output_type": "stream",
          "name": "stdout",
          "text": [
            "tensor([[1, 2, 3]])\n"
          ]
        }
      ]
    },
    {
      "cell_type": "code",
      "source": [
        "# boolean 인덱싱\n",
        "A = torch.tensor([[1, 2, 3, 4], [5, 3, 7, 3]])\n",
        "print(A == 3) # 리스트와 달리 각 요소에 대해 비교해 줌\n",
        "b = A[A==3] # True, False가 담긴 행렬로 인덱싱 가능!, 비교연산자 모두 사용 가능!(>, <=)\n",
        "print(b)\n",
        "print(b.shape)  # print(b) = tensor([3, 3, 3])\n",
        "\n",
        "a = torch.tensor([1, 2, 3])\n",
        "a[True, False, False]\n",
        "print(a[True, False, False])\n",
        "# a[[True, False, False]] = 100 # a[0] = 100과 같음\n",
        "# print(a)\n",
        "print(a[    [2, 0, 1]   ])\n",
        "\n",
        "# A[A==3] = 100\n",
        "# print(A)  # 그러면 이런 것도 가능하다! (3과 같은 애를 100으로 바꿔줘)\n",
        "\n",
        "A = torch.tensor([[1, 2], [3, 4], [5, 6], [7, 8]])\n",
        "B = torch.tensor([True, False, False, True])  # B = [True, False, False, True] 리스트로도 가능\n",
        "A[B,:]  # 행에 대해서 boolean 인덱싱 가능"
      ],
      "metadata": {
        "id": "_Om4BuvcjmYb",
        "colab": {
          "base_uri": "https://localhost:8080/"
        },
        "outputId": "32b42e5e-8092-4883-9e2d-5872c3cb855f"
      },
      "execution_count": 94,
      "outputs": [
        {
          "output_type": "stream",
          "name": "stdout",
          "text": [
            "tensor([[False, False,  True, False],\n",
            "        [False,  True, False,  True]])\n",
            "tensor([3, 3, 3])\n",
            "torch.Size([3])\n",
            "tensor([], size=(0, 3), dtype=torch.int64)\n",
            "tensor([3, 1, 2])\n"
          ]
        },
        {
          "output_type": "execute_result",
          "data": {
            "text/plain": [
              "tensor([[1, 2],\n",
              "        [7, 8]])"
            ]
          },
          "metadata": {},
          "execution_count": 94
        }
      ]
    },
    {
      "cell_type": "code",
      "source": [
        "# 좀 더 복작한 인덱싱\n",
        "A = torch.tensor([  [[0, 1, 2, 3], [4, 5, 6, 7], [8, 9, 10, 11]]  ,\n",
        "                  [[12, 13, 14, 15], [16, 17, 18, 19], [20, 21, 22, 23]]  ])  # A.ndim = 3\n",
        "print(A)\n",
        "print(A.shape)  # 대괄호가 하나 늘어나면 왼쪽에 값이 하나 추가된다고 생각\n",
        "print(A[0, 1, 2])"
      ],
      "metadata": {
        "colab": {
          "base_uri": "https://localhost:8080/"
        },
        "id": "zYa9AYf_XMwK",
        "outputId": "242b70b7-2894-4386-8e99-1949b0c506a4"
      },
      "execution_count": 9,
      "outputs": [
        {
          "output_type": "stream",
          "name": "stdout",
          "text": [
            "tensor([[[ 0,  1,  2,  3],\n",
            "         [ 4,  5,  6,  7],\n",
            "         [ 8,  9, 10, 11]],\n",
            "\n",
            "        [[12, 13, 14, 15],\n",
            "         [16, 17, 18, 19],\n",
            "         [20, 21, 22, 23]]])\n",
            "torch.Size([2, 3, 4])\n",
            "tensor(6)\n"
          ]
        }
      ]
    },
    {
      "cell_type": "markdown",
      "source": [
        "## Pytorch의 여러 함수들"
      ],
      "metadata": {
        "id": "uOuaFbnpYB9I"
      }
    },
    {
      "cell_type": "code",
      "source": [
        "A = torch.randn(3, 3) # Normal의 n, 평균이 0이고 표준편차가 1인 가우시안 정규분포를 이용해 생성\n",
        "B = torch.rand(3, 3)  # 이건 uniform, 0과 1 사이의 숫자를 균등하게 생성\n",
        "print(A)\n",
        "print(B)\n",
        "print(A[A[:,0]<0, :]) # 0번째 열이 음수인 행들"
      ],
      "metadata": {
        "colab": {
          "base_uri": "https://localhost:8080/"
        },
        "id": "VHGcaoYKYE1V",
        "outputId": "37a61c5f-c714-45fb-80fc-a7a14f21cc58"
      },
      "execution_count": 10,
      "outputs": [
        {
          "output_type": "stream",
          "name": "stdout",
          "text": [
            "tensor([[ 0.3444,  0.2595, -0.5042],\n",
            "        [ 0.1865, -0.7445,  1.1909],\n",
            "        [-0.3428, -0.0813,  0.5740]])\n",
            "tensor([[0.2923, 0.0580, 0.2316],\n",
            "        [0.2301, 0.4198, 0.2245],\n",
            "        [0.5156, 0.8779, 0.5869]])\n",
            "tensor([[-0.3428, -0.0813,  0.5740]])\n"
          ]
        }
      ]
    },
    {
      "cell_type": "code",
      "source": [
        "A = torch.randn(3, 3)\n",
        "print(A)\n",
        "print(torch.abs(A)) # print(abs(A))도 같은 결과인 듯\n",
        "print(torch.sqrt(torch.abs(A)))  # sqrt는 torch 모듈의 sqrt를 써야함\n",
        "print(torch.exp(A))\n",
        "print(torch.log(torch.abs(A)))  \n",
        "print(torch.log(torch.exp(torch.tensor(1)))) # log는 밑이 e인 함수\n",
        "print(torch.log10(torch.tensor(10)))\n",
        "print(torch.round(A)) # 반올림\n",
        "print(torch.round(A, decimals=2)) # decimals는 최대 4인 듯\n",
        "print(torch.floor(A)) # 내림\n",
        "print(torch.ceil(A))  # 올림"
      ],
      "metadata": {
        "colab": {
          "base_uri": "https://localhost:8080/"
        },
        "id": "5RgK2eAFaCFc",
        "outputId": "6aa30fef-a9a6-4388-f1ef-4bea975bd960"
      },
      "execution_count": 11,
      "outputs": [
        {
          "output_type": "stream",
          "name": "stdout",
          "text": [
            "tensor([[ 0.5534,  1.8749,  0.2593],\n",
            "        [ 0.5159, -1.7130,  0.6891],\n",
            "        [-0.5504,  1.0378,  0.8080]])\n",
            "tensor([[0.5534, 1.8749, 0.2593],\n",
            "        [0.5159, 1.7130, 0.6891],\n",
            "        [0.5504, 1.0378, 0.8080]])\n",
            "tensor([[0.7439, 1.3693, 0.5092],\n",
            "        [0.7183, 1.3088, 0.8301],\n",
            "        [0.7419, 1.0187, 0.8989]])\n",
            "tensor([[1.7391, 6.5204, 1.2960],\n",
            "        [1.6752, 0.1803, 1.9920],\n",
            "        [0.5767, 2.8229, 2.2435]])\n",
            "tensor([[-0.5917,  0.6286, -1.3498],\n",
            "        [-0.6618,  0.5383, -0.3723],\n",
            "        [-0.5972,  0.0371, -0.2131]])\n",
            "tensor(1.)\n",
            "tensor(1.)\n",
            "tensor([[ 1.,  2.,  0.],\n",
            "        [ 1., -2.,  1.],\n",
            "        [-1.,  1.,  1.]])\n",
            "tensor([[ 0.5500,  1.8700,  0.2600],\n",
            "        [ 0.5200, -1.7100,  0.6900],\n",
            "        [-0.5500,  1.0400,  0.8100]])\n",
            "tensor([[ 0.,  1.,  0.],\n",
            "        [ 0., -2.,  0.],\n",
            "        [-1.,  1.,  0.]])\n",
            "tensor([[ 1.,  2.,  1.],\n",
            "        [ 1., -1.,  1.],\n",
            "        [-0.,  2.,  1.]])\n"
          ]
        }
      ]
    },
    {
      "cell_type": "code",
      "source": [
        "print(torch.isnan(torch.tensor([1, 2, torch.nan, 3, 4])))  # 텐서의 element가 nan인지 판별\n",
        "print(torch.isinf(torch.tensor([1, 2, 3, 4, torch.inf, float('inf')]))) # float('inf')은 float 자료형의 양의 무한대, 무한대는 정수에 적용할 수 없음 int(float('inf')) -> X\n",
        "\n",
        "# print(torch.isnan(torch.log(torch.tensor(-1))))\n",
        "# print(torch.isnan(torch.tensor([torch.nan])))\n",
        "# print(torch.tensor(1) / torch.tensor(0))\n",
        "# print(torch.tensor(torch.inf))"
      ],
      "metadata": {
        "colab": {
          "base_uri": "https://localhost:8080/"
        },
        "id": "Vu97toVWoU20",
        "outputId": "ab442218-af8d-40e8-8ef1-07a02b084b96"
      },
      "execution_count": 12,
      "outputs": [
        {
          "output_type": "stream",
          "name": "stdout",
          "text": [
            "tensor([False, False,  True, False, False])\n",
            "tensor([False, False, False, False,  True,  True])\n"
          ]
        }
      ]
    },
    {
      "cell_type": "code",
      "source": [
        "print(torch.sin(torch.tensor(torch.pi/6)))\n",
        "print(torch.cos(torch.tensor(torch.pi/3)))\n",
        "print(torch.tan(torch.tensor(torch.pi/4)))\n",
        "print(torch.tanh(torch.tensor(-10)))"
      ],
      "metadata": {
        "colab": {
          "base_uri": "https://localhost:8080/"
        },
        "id": "EKKbQN4LrldU",
        "outputId": "ce6e312d-d487-4f9f-eeb0-ac65d3212065"
      },
      "execution_count": 13,
      "outputs": [
        {
          "output_type": "stream",
          "name": "stdout",
          "text": [
            "tensor(0.5000)\n",
            "tensor(0.5000)\n",
            "tensor(1.)\n",
            "tensor(-1.)\n"
          ]
        }
      ]
    },
    {
      "cell_type": "code",
      "source": [
        "A = torch.randn(3, 4)\n",
        "print(A)\n",
        "print(torch.max(A))\n",
        "print(torch.max(A, dim=0))\n",
        "print(torch.max(A, dim=1))\n",
        "print(torch.min(A, dim=0))\n",
        "print(torch.min(A, dim=1))\n",
        "print(torch.argmax(A))  # 0행 0열부터 오른쪽으로 인덱싱\n",
        "print(torch.argmax(A, dim=0)) # 각 행 안에서 가장 큰 애\n",
        "print(torch.argmax(A, dim=1)) # 각 열 안에서 가장 큰 애"
      ],
      "metadata": {
        "colab": {
          "base_uri": "https://localhost:8080/"
        },
        "id": "oRwvNTaFspqV",
        "outputId": "10019a7f-1c5d-4247-80de-90836511283c"
      },
      "execution_count": 14,
      "outputs": [
        {
          "output_type": "stream",
          "name": "stdout",
          "text": [
            "tensor([[-0.9101,  1.0363, -1.5141, -0.4323],\n",
            "        [-1.6009,  0.3535,  0.4777, -0.2453],\n",
            "        [-0.3397,  1.0697,  0.5279, -0.6388]])\n",
            "tensor(1.0697)\n",
            "torch.return_types.max(\n",
            "values=tensor([-0.3397,  1.0697,  0.5279, -0.2453]),\n",
            "indices=tensor([2, 2, 2, 1]))\n",
            "torch.return_types.max(\n",
            "values=tensor([1.0363, 0.4777, 1.0697]),\n",
            "indices=tensor([1, 2, 1]))\n",
            "torch.return_types.min(\n",
            "values=tensor([-1.6009,  0.3535, -1.5141, -0.6388]),\n",
            "indices=tensor([1, 1, 0, 2]))\n",
            "torch.return_types.min(\n",
            "values=tensor([-1.5141, -1.6009, -0.6388]),\n",
            "indices=tensor([2, 0, 3]))\n",
            "tensor(9)\n",
            "tensor([2, 2, 2, 1])\n",
            "tensor([1, 2, 1])\n"
          ]
        }
      ]
    },
    {
      "cell_type": "code",
      "source": [
        "A = torch.randn(3, 4)\n",
        "print(A)\n",
        "print(torch.sum(A))\n",
        "print(torch.sum(A, dim=1))  # 1D tensor로 바꿔버림\n",
        "print(torch.sum(A, dim=1, keepdims=True)) # dim 유지, A의 dim은 2D이므로 2D 유지\n",
        "print(torch.mean(A))\n",
        "print(torch.mean(A, dim=1))\n",
        "print(torch.mean(A, dim=1, keepdims=True))\n",
        "print(torch.std(A))\n",
        "print(torch.std(A, dim=0))"
      ],
      "metadata": {
        "colab": {
          "base_uri": "https://localhost:8080/"
        },
        "id": "9uWAPyaruMu4",
        "outputId": "a6ccc01e-5775-4c80-db64-fe84485efe4d"
      },
      "execution_count": 15,
      "outputs": [
        {
          "output_type": "stream",
          "name": "stdout",
          "text": [
            "tensor([[ 0.6558,  1.1414, -0.5385, -0.1223],\n",
            "        [-0.6466,  0.9272,  0.5229, -2.1001],\n",
            "        [-0.2915,  1.4349,  1.0819, -0.8108]])\n",
            "tensor(1.2544)\n",
            "tensor([ 1.1364, -1.2966,  1.4145])\n",
            "tensor([[ 1.1364],\n",
            "        [-1.2966],\n",
            "        [ 1.4145]])\n",
            "tensor(0.1045)\n",
            "tensor([ 0.2841, -0.3241,  0.3536])\n",
            "tensor([[ 0.2841],\n",
            "        [-0.3241],\n",
            "        [ 0.3536]])\n",
            "tensor(1.0375)\n",
            "tensor([0.6732, 0.2549, 0.8231, 1.0040])\n"
          ]
        }
      ]
    },
    {
      "cell_type": "code",
      "execution_count": 16,
      "metadata": {
        "colab": {
          "base_uri": "https://localhost:8080/"
        },
        "id": "f2RWpvWShxUa",
        "outputId": "dbc7ad84-eae8-4192-de17-fe43b18b4fb1"
      },
      "outputs": [
        {
          "output_type": "stream",
          "name": "stdout",
          "text": [
            "tensor([3, 1, 3, 3, 1, 3, 2, 1, 2, 4, 2, 1])\n",
            "torch.Size([12])\n",
            "tensor([[[3, 1, 3],\n",
            "         [3, 1, 3]],\n",
            "\n",
            "        [[2, 1, 2],\n",
            "         [4, 2, 1]]])\n",
            "3\n"
          ]
        }
      ],
      "source": [
        "A = torch.randint(1, 5, size=(12,)) # 1부터 5 사이 10개 정수 (1차원은 (N,)과 같이 표현)\n",
        "print(A)\n",
        "print(A.shape)\n",
        "B = A.reshape(2, 2, 3)\n",
        "print(B)\n",
        "print(B.ndim) # 3차원 행렬이다"
      ]
    },
    {
      "cell_type": "code",
      "source": [
        "a = torch.tensor([1, 2, 3])\n",
        "b = torch.tensor([2, 2, 1])\n",
        "print(torch.sum(a*b))\n",
        "# 3x1행렬로 변환 후 transpose취하고 행렬 곱\n",
        "a = a.reshape(3, 1)\n",
        "b = b.reshape(3, 1)\n",
        "print(a.transpose(1, 0)@b) # a.transpose(0, 1) or a.transpose(1, 0)\n",
        "print(a.permute(1, 0)@b)  # permute는 (0, 1)이면 그대로, (1, 0)이면 transpose\n",
        "print(a.T@b)\n",
        "print(a.t()@b)\n",
        "\n",
        "A = torch.randn(4, 3, 2)  # 4x3x2 행렬\n",
        "print(A.permute(0, 2, 1).shape) # 3차원 이상부터는 permute가 강력\n",
        "print(A.T.shape)  # 3차원에선 (0, 1, 2)가 (2, 1, 0)으로 무조건  t()는 3차원이상에서 안됨, 3차원 이상에선 permute 쓰는 게 가장 나을 듯"
      ],
      "metadata": {
        "colab": {
          "base_uri": "https://localhost:8080/"
        },
        "id": "wHunIZ70iFY5",
        "outputId": "6dc0afec-efb3-4cee-b5c1-7e06c4de02c5"
      },
      "execution_count": 17,
      "outputs": [
        {
          "output_type": "stream",
          "name": "stdout",
          "text": [
            "tensor(9)\n",
            "tensor([[9]])\n",
            "tensor([[9]])\n",
            "tensor([[9]])\n",
            "tensor([[9]])\n",
            "torch.Size([4, 2, 3])\n",
            "torch.Size([2, 3, 4])\n"
          ]
        },
        {
          "output_type": "stream",
          "name": "stderr",
          "text": [
            "/usr/local/lib/python3.7/dist-packages/ipykernel_launcher.py:14: UserWarning: The use of `x.T` on tensors of dimension other than 2 to reverse their shape is deprecated and it will throw an error in a future release. Consider `x.mT` to transpose batches of matricesor `x.permute(*torch.arange(x.ndim - 1, -1, -1))` to reverse the dimensions of a tensor. (Triggered internally at  ../aten/src/ATen/native/TensorShape.cpp:2981.)\n",
            "  \n"
          ]
        }
      ]
    },
    {
      "cell_type": "code",
      "source": [
        "A = torch.arange(20,) # arange는 range와 같다고 함\n",
        "print(A.reshape(4, -1).shape) # 4개의 행이 되도록 열의 수를 맞춰준\n",
        "print(A.reshape(2, 5, -1).shape)\n",
        "print(A.reshape(1, -1).shape) # 2차원 행 벡터\n",
        "print(A.reshape(-1, 1).shape) # 2차원 열 벡터"
      ],
      "metadata": {
        "id": "vaG6bI6aigCy",
        "colab": {
          "base_uri": "https://localhost:8080/"
        },
        "outputId": "1d950c1f-9d8c-4007-8626-4381e1ddd67f"
      },
      "execution_count": 18,
      "outputs": [
        {
          "output_type": "stream",
          "name": "stdout",
          "text": [
            "torch.Size([4, 5])\n",
            "torch.Size([2, 5, 2])\n",
            "torch.Size([1, 20])\n",
            "torch.Size([20, 1])\n"
          ]
        }
      ]
    },
    {
      "cell_type": "code",
      "source": [
        "x = torch.rand(2, 3, 4, 5, 6)\n",
        "print(x[1, 2,:,:,:].shape)\n",
        "print(x[1, 2,...].shape)\n",
        "print(x[:,:,:,:,3].shape) # 의미 잘 생각해보기\n",
        "print(x[...,3].shape) # .의 개수는 무조건 3개인 듯\n",
        "print(x[1,:,:,3,:].shape)\n",
        "print(x[1,...,3,:].shape)"
      ],
      "metadata": {
        "colab": {
          "base_uri": "https://localhost:8080/"
        },
        "id": "hZKmkXFaFU--",
        "outputId": "461b4599-b348-4fd0-b77b-60bbbca96e95"
      },
      "execution_count": 19,
      "outputs": [
        {
          "output_type": "stream",
          "name": "stdout",
          "text": [
            "torch.Size([4, 5, 6])\n",
            "torch.Size([4, 5, 6])\n",
            "torch.Size([2, 3, 4, 5])\n",
            "torch.Size([2, 3, 4, 5])\n",
            "torch.Size([3, 4, 6])\n",
            "torch.Size([3, 4, 6])\n"
          ]
        }
      ]
    },
    {
      "cell_type": "code",
      "source": [
        "A = torch.ones(3, 4)\n",
        "B = torch.zeros(3, 4)\n",
        "C = torch.hstack((A, B))  # input은 튜플로, h는 horizontal을 의미\n",
        "D = torch.vstack((A, B))  # v는 vertical\n",
        "E = torch.dstack((A, B))\n",
        "F = torch.cat([A, B], dim=0)  # vstack  행으로 쌓는다, cat은 튜플이나 리스트로 받아도 되는 듯\n",
        "G = torch.cat([A, B], dim=1)  # hstack  열로 쌓는다\n",
        "\n",
        "print(C)\n",
        "print(D)\n",
        "print(E)\n",
        "print(F)\n",
        "print(G)"
      ],
      "metadata": {
        "colab": {
          "base_uri": "https://localhost:8080/"
        },
        "id": "vATZLssvG9E8",
        "outputId": "91f152fc-cc60-436b-bc43-8b2836765780"
      },
      "execution_count": 20,
      "outputs": [
        {
          "output_type": "stream",
          "name": "stdout",
          "text": [
            "tensor([[1., 1., 1., 1., 0., 0., 0., 0.],\n",
            "        [1., 1., 1., 1., 0., 0., 0., 0.],\n",
            "        [1., 1., 1., 1., 0., 0., 0., 0.]])\n",
            "tensor([[1., 1., 1., 1.],\n",
            "        [1., 1., 1., 1.],\n",
            "        [1., 1., 1., 1.],\n",
            "        [0., 0., 0., 0.],\n",
            "        [0., 0., 0., 0.],\n",
            "        [0., 0., 0., 0.]])\n",
            "tensor([[[1., 0.],\n",
            "         [1., 0.],\n",
            "         [1., 0.],\n",
            "         [1., 0.]],\n",
            "\n",
            "        [[1., 0.],\n",
            "         [1., 0.],\n",
            "         [1., 0.],\n",
            "         [1., 0.]],\n",
            "\n",
            "        [[1., 0.],\n",
            "         [1., 0.],\n",
            "         [1., 0.],\n",
            "         [1., 0.]]])\n",
            "tensor([[1., 1., 1., 1.],\n",
            "        [1., 1., 1., 1.],\n",
            "        [1., 1., 1., 1.],\n",
            "        [0., 0., 0., 0.],\n",
            "        [0., 0., 0., 0.],\n",
            "        [0., 0., 0., 0.]])\n",
            "tensor([[1., 1., 1., 1., 0., 0., 0., 0.],\n",
            "        [1., 1., 1., 1., 0., 0., 0., 0.],\n",
            "        [1., 1., 1., 1., 0., 0., 0., 0.]])\n"
          ]
        }
      ]
    },
    {
      "cell_type": "code",
      "source": [
        "A = torch.randn(1, 1, 1, 3, 1, 1, 1, 4, 1, 1, 1)\n",
        "print(A.shape)\n",
        "print(A.squeeze().shape)"
      ],
      "metadata": {
        "colab": {
          "base_uri": "https://localhost:8080/"
        },
        "id": "XiHVFtK3JebF",
        "outputId": "cd4dee42-edac-4def-e8dc-24987f1dd2ef"
      },
      "execution_count": 21,
      "outputs": [
        {
          "output_type": "stream",
          "name": "stdout",
          "text": [
            "torch.Size([1, 1, 1, 3, 1, 1, 1, 4, 1, 1, 1])\n",
            "torch.Size([3, 4])\n"
          ]
        }
      ]
    },
    {
      "cell_type": "code",
      "source": [
        "A = torch.randn(3, 4)\n",
        "print(A.unsqueeze(dim=0).shape)\n",
        "print(A.unsqueeze(dim=1).shape)\n",
        "print(A.unsqueeze(dim=2).shape)\n",
        "\n",
        "# A = torch.ones(3, 4)\n",
        "# B = torch.zeros(3, 4)\n",
        "# A_uns = A.unsqueeze(dim=0)\n",
        "# B_uns = B.unsqueeze(dim=0)\n",
        "# print(torch.cat((A_uns, B_uns), dim=0).shape)\n",
        "# print(torch.dstack((A_uns, B_uns)).shape)\n",
        "# print(torch.dstack((A, B)).shape) \n",
        "# # dstack은 2차원은 마지막에 차원이 생김 ex) (3, 4)짜리 두개면 (3, 4, 2)로 됨\n",
        "# # 3차원 (1, 3, 4) 두개면 (1, 3, 8)이 됨"
      ],
      "metadata": {
        "colab": {
          "base_uri": "https://localhost:8080/"
        },
        "id": "RvGwATOBKHCu",
        "outputId": "93daa94a-07b1-4d06-da9d-ace64336e8f4"
      },
      "execution_count": 22,
      "outputs": [
        {
          "output_type": "stream",
          "name": "stdout",
          "text": [
            "torch.Size([1, 3, 4])\n",
            "torch.Size([3, 1, 4])\n",
            "torch.Size([3, 4, 1])\n"
          ]
        }
      ]
    },
    {
      "cell_type": "markdown",
      "source": [
        "## numpy <-> torch 왔다갔다 가능"
      ],
      "metadata": {
        "id": "AP1s9lUxMzHA"
      }
    },
    {
      "cell_type": "code",
      "source": [
        "import numpy as np\n",
        "import torch\n",
        "\n",
        "a = np.array([1, 2, 3])\n",
        "b = torch.tensor([1, 2, 3])\n",
        "A = torch.tensor(a) # A = torch.from_numpy(a)도 가능\n",
        "B = b.numpy() # B = np.array(b)도 가능\n",
        "print(A)\n",
        "print(type(a), type(b), type(A), type(B))"
      ],
      "metadata": {
        "colab": {
          "base_uri": "https://localhost:8080/"
        },
        "id": "l_kkDjsxM2F7",
        "outputId": "0836f0d9-8ac9-443f-bc3b-fe84ef4975ce"
      },
      "execution_count": 23,
      "outputs": [
        {
          "output_type": "stream",
          "name": "stdout",
          "text": [
            "tensor([1, 2, 3])\n",
            "<class 'numpy.ndarray'> <class 'torch.Tensor'> <class 'torch.Tensor'> <class 'numpy.ndarray'>\n"
          ]
        }
      ]
    },
    {
      "cell_type": "markdown",
      "source": [
        "## 딥러닝을 가능케한 autograd"
      ],
      "metadata": {
        "id": "HaUbV710NqJb"
      }
    },
    {
      "cell_type": "code",
      "source": [
        "import torch\n",
        "x = torch.tensor(1., requires_grad=True)  # input이 float여야 해서 1.으로 표기\n",
        "print(x)"
      ],
      "metadata": {
        "colab": {
          "base_uri": "https://localhost:8080/"
        },
        "id": "1Nk3U7oxNqTk",
        "outputId": "58ad56f8-de1b-495e-ba30-c75fd4feda9a"
      },
      "execution_count": 24,
      "outputs": [
        {
          "output_type": "stream",
          "name": "stdout",
          "text": [
            "tensor(1., requires_grad=True)\n"
          ]
        }
      ]
    },
    {
      "cell_type": "code",
      "source": [
        "x = torch.tensor(1.)\n",
        "print(x)  # requires_grad가 False면 보여주지 않음, True일 때만 표기\n",
        "print(x.requires_grad)\n",
        "x.requires_grad = True\n",
        "print(x)\n",
        "print(x.requires_grad)"
      ],
      "metadata": {
        "colab": {
          "base_uri": "https://localhost:8080/"
        },
        "id": "D2ibRyV8OSlU",
        "outputId": "7b378d29-aa1b-4aba-8d7e-b7df7f72da59"
      },
      "execution_count": 25,
      "outputs": [
        {
          "output_type": "stream",
          "name": "stdout",
          "text": [
            "tensor(1.)\n",
            "False\n",
            "tensor(1., requires_grad=True)\n",
            "True\n"
          ]
        }
      ]
    },
    {
      "cell_type": "code",
      "source": [
        "x = torch.tensor(1., requires_grad=True)\n",
        "y = x**2\n",
        "print(y)  # PowBackward0 가 붙어있다.\n",
        "print(y.detach())\n",
        "print(y.detach().item())  # 메모리를 줄이기 위해 메소드 추가\n",
        "\n",
        "y.backward()  # 미분한다는 뜻\n",
        "print(x.grad) # y=x^2을 미분한 2x에 x값에 1(첫번째 줄에 x를 1로 설정)을 대입한 바로 그 gradient 값"
      ],
      "metadata": {
        "colab": {
          "base_uri": "https://localhost:8080/"
        },
        "id": "6LdenJwyO0Du",
        "outputId": "d9903dff-8e39-44e1-80b6-54480cce261c"
      },
      "execution_count": 26,
      "outputs": [
        {
          "output_type": "stream",
          "name": "stdout",
          "text": [
            "tensor(1., grad_fn=<PowBackward0>)\n",
            "tensor(1.)\n",
            "1.0\n",
            "tensor(2.)\n"
          ]
        }
      ]
    },
    {
      "cell_type": "code",
      "source": [
        "x = torch.tensor(1., requires_grad=True)  # False면 backward(미분)할 때 오류 발생\n",
        "y = x**2\n",
        "print(y)\n",
        "# y.retain_grad() # 이걸 하면 y.grad도 볼 수 있다.\n",
        "\n",
        "z = 3*y\n",
        "print(z)\n",
        "\n",
        "z.backward()\n",
        "print(x.grad) # chain rule로 알아냄\n",
        "# print(y.grad)"
      ],
      "metadata": {
        "colab": {
          "base_uri": "https://localhost:8080/"
        },
        "id": "l_Mj3ZUpQrp1",
        "outputId": "43bafe24-54e9-40e5-f67b-d075ae7ac1ec"
      },
      "execution_count": 27,
      "outputs": [
        {
          "output_type": "stream",
          "name": "stdout",
          "text": [
            "tensor(1., grad_fn=<PowBackward0>)\n",
            "tensor(3., grad_fn=<MulBackward0>)\n",
            "tensor(6.)\n"
          ]
        }
      ]
    },
    {
      "cell_type": "code",
      "source": [
        "x = torch.tensor(1., requires_grad=True)\n",
        "y = x**2\n",
        "z = 3*y\n",
        "\n",
        "y.backward()  # 이렇게 하면 y에서부터 뒤로 넘어감 (backward)\n",
        "print(x.grad)"
      ],
      "metadata": {
        "colab": {
          "base_uri": "https://localhost:8080/"
        },
        "id": "IMquBPcA63hN",
        "outputId": "b8fd4ea7-8c64-4e95-af11-cc574e6a567a"
      },
      "execution_count": 28,
      "outputs": [
        {
          "output_type": "stream",
          "name": "stdout",
          "text": [
            "tensor(2.)\n"
          ]
        }
      ]
    },
    {
      "cell_type": "code",
      "source": [
        "x = torch.tensor(1., requires_grad=True)\n",
        "a = x**2\n",
        "b = a+1\n",
        "print(b)\n",
        "c = b**2\n",
        "print(c)\n",
        "c.backward()\n",
        "print(x.grad)"
      ],
      "metadata": {
        "colab": {
          "base_uri": "https://localhost:8080/"
        },
        "id": "ex8WlhIK8cnJ",
        "outputId": "eb880b40-74b7-40cd-e6e1-8e4a34be6350"
      },
      "execution_count": 29,
      "outputs": [
        {
          "output_type": "stream",
          "name": "stdout",
          "text": [
            "tensor(2., grad_fn=<AddBackward0>)\n",
            "tensor(4., grad_fn=<PowBackward0>)\n",
            "tensor(8.)\n"
          ]
        }
      ]
    },
    {
      "cell_type": "code",
      "source": [
        "x = torch.tensor(1., requires_grad=True)\n",
        "y = torch.tensor(1., requires_grad=True)\n",
        "z = x*y**2\n",
        "z.backward()\n",
        "print(x.grad)\n",
        "print(y.grad)"
      ],
      "metadata": {
        "colab": {
          "base_uri": "https://localhost:8080/"
        },
        "id": "bAeUTsxG9EmJ",
        "outputId": "5799dae5-7de5-44cd-ea0f-6ada54e4f4b2"
      },
      "execution_count": 30,
      "outputs": [
        {
          "output_type": "stream",
          "name": "stdout",
          "text": [
            "tensor(1.)\n",
            "tensor(2.)\n"
          ]
        }
      ]
    },
    {
      "cell_type": "code",
      "source": [
        "x = torch.tensor(1., requires_grad=True)\n",
        "x.requires_grad=False  # grad_func 떼버리려고\n",
        "# 왜 떼버릴까? 그래야 나중에 그림 그릴 수 있음, grad_fn있으면 plot 못함\n",
        "y = x**2\n",
        "print(y)\n",
        "\n",
        "import matplotlib.pyplot as plt\n",
        "plt.plot(x, y)"
      ],
      "metadata": {
        "colab": {
          "base_uri": "https://localhost:8080/",
          "height": 302
        },
        "id": "bESLe9FL9Ztt",
        "outputId": "e66bf606-fa84-42e9-a7e5-9a032e34ef05"
      },
      "execution_count": 31,
      "outputs": [
        {
          "output_type": "stream",
          "name": "stdout",
          "text": [
            "tensor(1.)\n"
          ]
        },
        {
          "output_type": "execute_result",
          "data": {
            "text/plain": [
              "[<matplotlib.lines.Line2D at 0x7f42303c17d0>]"
            ]
          },
          "metadata": {},
          "execution_count": 31
        },
        {
          "output_type": "display_data",
          "data": {
            "text/plain": [
              "<Figure size 432x288 with 1 Axes>"
            ],
            "image/png": "[encoded data removed]"
          },
          "metadata": {
            "needs_background": "light"
          }
        }
      ]
    },
    {
      "cell_type": "code",
      "source": [
        "x = torch.tensor(1., requires_grad=True)\n",
        "x = x.detach()  # 보통 detach를 많이 쓰더라, detach는 새롭게 만드는 거라 메모리는 위에 방식이 더 적게 잡아먹음\n",
        "y = x**2\n",
        "print(y)"
      ],
      "metadata": {
        "colab": {
          "base_uri": "https://localhost:8080/"
        },
        "id": "P1DqhmQb97jC",
        "outputId": "c237e1a3-027c-4f42-94d9-30b10de60a40"
      },
      "execution_count": 32,
      "outputs": [
        {
          "output_type": "stream",
          "name": "stdout",
          "text": [
            "tensor(1.)\n"
          ]
        }
      ]
    },
    {
      "cell_type": "code",
      "source": [
        "x = torch.tensor([1., 2., 3.], requires_grad=True) # [x1, x2, x3]를 제곱해서 미분한다고 생각\n",
        "y = torch.sum(x**2)\n",
        "y.backward()\n",
        "\n",
        "print(y)\n",
        "print(x.grad)"
      ],
      "metadata": {
        "colab": {
          "base_uri": "https://localhost:8080/"
        },
        "id": "BEeSjgaq-w8C",
        "outputId": "93e29921-85bb-48a2-a633-2ac12eca622e"
      },
      "execution_count": 33,
      "outputs": [
        {
          "output_type": "stream",
          "name": "stdout",
          "text": [
            "tensor(14., grad_fn=<SumBackward0>)\n",
            "tensor([2., 4., 6.])\n"
          ]
        }
      ]
    },
    {
      "cell_type": "code",
      "source": [
        "x = torch.tensor([1., 2., 3.], requires_grad=True)\n",
        "y = x**2\n",
        "print(y)\n",
        "# y.backward()  # 벡터에 대해 미분은 안되는 듯\n",
        "  # torch.autograd.functional.jacobian"
      ],
      "metadata": {
        "colab": {
          "base_uri": "https://localhost:8080/"
        },
        "id": "bDdYwzrf_vB8",
        "outputId": "35497784-31de-468d-af14-dc6fcd907aef"
      },
      "execution_count": 34,
      "outputs": [
        {
          "output_type": "stream",
          "name": "stdout",
          "text": [
            "tensor([1., 4., 9.], grad_fn=<PowBackward0>)\n"
          ]
        }
      ]
    },
    {
      "cell_type": "code",
      "source": [
        "!pip install torchviz\n",
        "from torchviz import make_dot\n",
        "\n",
        "x = torch.ones(2, requires_grad=True)\n",
        "y = 2*x\n",
        "z = 3+x\n",
        "r = (y+z).sum()\n",
        "make_dot(r)"
      ],
      "metadata": {
        "colab": {
          "base_uri": "https://localhost:8080/",
          "height": 694
        },
        "id": "Uljy_mbOAStZ",
        "outputId": "c6ac0c8c-6fc9-4d8e-ba09-fb6aff7b6cb3"
      },
      "execution_count": 38,
      "outputs": [
        {
          "output_type": "stream",
          "name": "stdout",
          "text": [
            "Looking in indexes: https://pypi.org/simple, https://us-python.pkg.dev/colab-wheels/public/simple/\n",
            "Collecting torchviz\n",
            "  Downloading torchviz-0.0.2.tar.gz (4.9 kB)\n",
            "Requirement already satisfied: torch in /usr/local/lib/python3.7/dist-packages (from torchviz) (1.12.1+cu113)\n",
            "Requirement already satisfied: graphviz in /usr/local/lib/python3.7/dist-packages (from torchviz) (0.10.1)\n",
            "Requirement already satisfied: typing-extensions in /usr/local/lib/python3.7/dist-packages (from torch->torchviz) (4.1.1)\n",
            "Building wheels for collected packages: torchviz\n",
            "  Building wheel for torchviz (setup.py) ... \u001b[?25l\u001b[?25hdone\n",
            "  Created wheel for torchviz: filename=torchviz-0.0.2-py3-none-any.whl size=4150 sha256=e9d069f580555a7c805f3e3711e279bd16d7422171b80b3c6965660ec1d00c4a\n",
            "  Stored in directory: /root/.cache/pip/wheels/04/38/f5/dc4f85c3909051823df49901e72015d2d750bd26b086480ec2\n",
            "Successfully built torchviz\n",
            "Installing collected packages: torchviz\n",
            "Successfully installed torchviz-0.0.2\n"
          ]
        },
        {
          "output_type": "execute_result",
          "data": {
            "text/plain": [
              "<graphviz.dot.Digraph at 0x7f42b54624d0>"
            ],
            "image/svg+xml": "<?xml version=\"1.0\" encoding=\"UTF-8\" standalone=\"no\"?>\n<!DOCTYPE svg PUBLIC \"-//W3C//DTD SVG 1.1//EN\"\n \"http://www.w3.org/Graphics/SVG/1.1/DTD/svg11.dtd\">\n<!-- Generated by graphviz version 2.40.1 (20161225.0304)\n -->\n<!-- Title: %3 Pages: 1 -->\n<svg width=\"204pt\" height=\"326pt\"\n viewBox=\"0.00 0.00 204.00 326.00\" xmlns=\"http://www.w3.org/2000/svg\" xmlns:xlink=\"http://www.w3.org/1999/xlink\">\n<g id=\"graph0\" class=\"graph\" transform=\"scale(1 1) rotate(0) translate(4 322)\">\n<title>%3</title>\n<polygon fill=\"#ffffff\" stroke=\"transparent\" points=\"-4,4 -4,-322 200,-322 200,4 -4,4\"/>\n<!-- 139924485847856 -->\n<g id=\"node1\" class=\"node\">\n<title>139924485847856</title>\n<polygon fill=\"#caff70\" stroke=\"#000000\" points=\"124.5,-31 70.5,-31 70.5,0 124.5,0 124.5,-31\"/>\n<text text-anchor=\"middle\" x=\"97.5\" y=\"-7\" font-family=\"monospace\" font-size=\"10.00\" fill=\"#000000\"> ()</text>\n</g>\n<!-- 139924485824912 -->\n<g id=\"node2\" class=\"node\">\n<title>139924485824912</title>\n<polygon fill=\"#d3d3d3\" stroke=\"#000000\" points=\"142,-86 53,-86 53,-67 142,-67 142,-86\"/>\n<text text-anchor=\"middle\" x=\"97.5\" y=\"-74\" font-family=\"monospace\" font-size=\"10.00\" fill=\"#000000\">SumBackward0</text>\n</g>\n<!-- 139924485824912&#45;&gt;139924485847856 -->\n<g id=\"edge7\" class=\"edge\">\n<title>139924485824912&#45;&gt;139924485847856</title>\n<path fill=\"none\" stroke=\"#000000\" d=\"M97.5,-66.9688C97.5,-60.1289 97.5,-50.5621 97.5,-41.5298\"/>\n<polygon fill=\"#000000\" stroke=\"#000000\" points=\"101.0001,-41.3678 97.5,-31.3678 94.0001,-41.3678 101.0001,-41.3678\"/>\n</g>\n<!-- 139924485825424 -->\n<g id=\"node3\" class=\"node\">\n<title>139924485825424</title>\n<polygon fill=\"#d3d3d3\" stroke=\"#000000\" points=\"142,-141 53,-141 53,-122 142,-122 142,-141\"/>\n<text text-anchor=\"middle\" x=\"97.5\" y=\"-129\" font-family=\"monospace\" font-size=\"10.00\" fill=\"#000000\">AddBackward0</text>\n</g>\n<!-- 139924485825424&#45;&gt;139924485824912 -->\n<g id=\"edge1\" class=\"edge\">\n<title>139924485825424&#45;&gt;139924485824912</title>\n<path fill=\"none\" stroke=\"#000000\" d=\"M97.5,-121.9197C97.5,-114.9083 97.5,-105.1442 97.5,-96.4652\"/>\n<polygon fill=\"#000000\" stroke=\"#000000\" points=\"101.0001,-96.3408 97.5,-86.3408 94.0001,-96.3409 101.0001,-96.3408\"/>\n</g>\n<!-- 139924485827088 -->\n<g id=\"node4\" class=\"node\">\n<title>139924485827088</title>\n<polygon fill=\"#d3d3d3\" stroke=\"#000000\" points=\"89,-196 0,-196 0,-177 89,-177 89,-196\"/>\n<text text-anchor=\"middle\" x=\"44.5\" y=\"-184\" font-family=\"monospace\" font-size=\"10.00\" fill=\"#000000\">MulBackward0</text>\n</g>\n<!-- 139924485827088&#45;&gt;139924485825424 -->\n<g id=\"edge2\" class=\"edge\">\n<title>139924485827088&#45;&gt;139924485825424</title>\n<path fill=\"none\" stroke=\"#000000\" d=\"M53.7319,-176.9197C61.2391,-169.1293 72.021,-157.9405 81.0049,-148.6176\"/>\n<polygon fill=\"#000000\" stroke=\"#000000\" points=\"83.5983,-150.9703 88.017,-141.3408 78.5578,-146.113 83.5983,-150.9703\"/>\n</g>\n<!-- 139924485826000 -->\n<g id=\"node5\" class=\"node\">\n<title>139924485826000</title>\n<polygon fill=\"#d3d3d3\" stroke=\"#000000\" points=\"148,-251 47,-251 47,-232 148,-232 148,-251\"/>\n<text text-anchor=\"middle\" x=\"97.5\" y=\"-239\" font-family=\"monospace\" font-size=\"10.00\" fill=\"#000000\">AccumulateGrad</text>\n</g>\n<!-- 139924485826000&#45;&gt;139924485827088 -->\n<g id=\"edge3\" class=\"edge\">\n<title>139924485826000&#45;&gt;139924485827088</title>\n<path fill=\"none\" stroke=\"#000000\" d=\"M88.2681,-231.9197C80.7609,-224.1293 69.979,-212.9405 60.9951,-203.6176\"/>\n<polygon fill=\"#000000\" stroke=\"#000000\" points=\"63.4422,-201.113 53.983,-196.3408 58.4017,-205.9703 63.4422,-201.113\"/>\n</g>\n<!-- 139924485824784 -->\n<g id=\"node7\" class=\"node\">\n<title>139924485824784</title>\n<polygon fill=\"#d3d3d3\" stroke=\"#000000\" points=\"196,-196 107,-196 107,-177 196,-177 196,-196\"/>\n<text text-anchor=\"middle\" x=\"151.5\" y=\"-184\" font-family=\"monospace\" font-size=\"10.00\" fill=\"#000000\">AddBackward0</text>\n</g>\n<!-- 139924485826000&#45;&gt;139924485824784 -->\n<g id=\"edge6\" class=\"edge\">\n<title>139924485826000&#45;&gt;139924485824784</title>\n<path fill=\"none\" stroke=\"#000000\" d=\"M106.9061,-231.9197C114.5549,-224.1293 125.5403,-212.9405 134.6936,-203.6176\"/>\n<polygon fill=\"#000000\" stroke=\"#000000\" points=\"137.3296,-205.9286 141.8381,-196.3408 132.3347,-201.0244 137.3296,-205.9286\"/>\n</g>\n<!-- 139922248408720 -->\n<g id=\"node6\" class=\"node\">\n<title>139922248408720</title>\n<polygon fill=\"#add8e6\" stroke=\"#000000\" points=\"124.5,-318 70.5,-318 70.5,-287 124.5,-287 124.5,-318\"/>\n<text text-anchor=\"middle\" x=\"97.5\" y=\"-294\" font-family=\"monospace\" font-size=\"10.00\" fill=\"#000000\"> (2)</text>\n</g>\n<!-- 139922248408720&#45;&gt;139924485826000 -->\n<g id=\"edge4\" class=\"edge\">\n<title>139922248408720&#45;&gt;139924485826000</title>\n<path fill=\"none\" stroke=\"#000000\" d=\"M97.5,-286.791C97.5,-279.0249 97.5,-269.5706 97.5,-261.3129\"/>\n<polygon fill=\"#000000\" stroke=\"#000000\" points=\"101.0001,-261.0647 97.5,-251.0648 94.0001,-261.0648 101.0001,-261.0647\"/>\n</g>\n<!-- 139924485824784&#45;&gt;139924485825424 -->\n<g id=\"edge5\" class=\"edge\">\n<title>139924485824784&#45;&gt;139924485825424</title>\n<path fill=\"none\" stroke=\"#000000\" d=\"M142.0939,-176.9197C134.4451,-169.1293 123.4597,-157.9405 114.3064,-148.6176\"/>\n<polygon fill=\"#000000\" stroke=\"#000000\" points=\"116.6653,-146.0244 107.1619,-141.3408 111.6704,-150.9286 116.6653,-146.0244\"/>\n</g>\n</g>\n</svg>\n"
          },
          "metadata": {},
          "execution_count": 38
        }
      ]
    },
    {
      "cell_type": "markdown",
      "source": [
        "## 간단한 인공신경망 만들기"
      ],
      "metadata": {
        "id": "mOa7rYggBL7n"
      }
    },
    {
      "cell_type": "code",
      "source": [
        "import torch\n",
        "from torch import nn\n",
        "\n",
        "input = torch.tensor([1.], requires_grad=False)  # 항상 float로, w와 b가 실수이므로\n",
        "model = nn.Linear(1, 1) # 입력 node 한개, 출력 node 한개의 인공 신경망 만듦\n",
        "print(model)\n",
        "\n",
        "print(model.weight)\n",
        "print(model.bias) # random하게 initialize, 가우시안으로 잡는 듯\n",
        "\n",
        "output = model(input)\n",
        "print(output)\n",
        "\n",
        "y = input * model.weight + model.bias\n",
        "print(y)"
      ],
      "metadata": {
        "colab": {
          "base_uri": "https://localhost:8080/"
        },
        "id": "MzRz5kT-BJxh",
        "outputId": "ebbbc7a1-7d3d-42b9-e16f-49fc27ae4ffe"
      },
      "execution_count": 39,
      "outputs": [
        {
          "output_type": "stream",
          "name": "stdout",
          "text": [
            "Linear(in_features=1, out_features=1, bias=True)\n",
            "Parameter containing:\n",
            "tensor([[0.9648]], requires_grad=True)\n",
            "Parameter containing:\n",
            "tensor([-0.8441], requires_grad=True)\n",
            "tensor([0.1206], grad_fn=<AddBackward0>)\n",
            "tensor([[0.1206]], grad_fn=<AddBackward0>)\n"
          ]
        }
      ]
    },
    {
      "cell_type": "code",
      "source": [
        "fc1 = nn.Linear(1, 3) # fully connected\n",
        "fc2 = nn.Linear(3, 1)\n",
        "\n",
        "print(fc1.weight)\n",
        "print(fc1.bias)\n",
        "print(fc2.weight)\n",
        "print(fc2.bias)\n",
        "\n",
        "x = torch.tensor([1.])\n",
        "x = fc1(x)\n",
        "print(x)\n",
        "x = fc2(x)\n",
        "print(x)\n",
        "x = fc1(x)  \n",
        "print(x)\n",
        "\n",
        "input = torch.tensor([1.])\n",
        "y = (input @ fc1.weight.T + fc1.bias.reshape(1, -1)) @ fc2.weight.T + fc2.bias.reshape(1, -1)\n",
        "print(y)\n",
        "# print(y.reshape(1,))  # 1D로 변환"
      ],
      "metadata": {
        "colab": {
          "base_uri": "https://localhost:8080/"
        },
        "id": "PKSHSEAmE_e9",
        "outputId": "f2816219-fd11-494f-ff2d-d7b2972eee86"
      },
      "execution_count": 49,
      "outputs": [
        {
          "output_type": "stream",
          "name": "stdout",
          "text": [
            "Parameter containing:\n",
            "tensor([[ 0.9858],\n",
            "        [-0.1274],\n",
            "        [ 0.8168]], requires_grad=True)\n",
            "Parameter containing:\n",
            "tensor([-0.8483,  0.1772, -0.0772], requires_grad=True)\n",
            "Parameter containing:\n",
            "tensor([[ 0.4273, -0.5092, -0.1108]], requires_grad=True)\n",
            "Parameter containing:\n",
            "tensor([-0.5371], requires_grad=True)\n",
            "tensor([0.1375, 0.0498, 0.7396], grad_fn=<AddBackward0>)\n",
            "tensor([-0.5856], grad_fn=<AddBackward0>)\n",
            "tensor([-1.4255,  0.2518, -0.5555], grad_fn=<AddBackward0>)\n",
            "tensor([[-0.5856]], grad_fn=<AddBackward0>)\n"
          ]
        }
      ]
    },
    {
      "cell_type": "code",
      "source": [
        ""
      ],
      "metadata": {
        "id": "urzepRZvI5VH"
      },
      "execution_count": 55,
      "outputs": []
    }
  ]
}