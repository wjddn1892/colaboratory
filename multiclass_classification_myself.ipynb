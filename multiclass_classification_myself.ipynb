{
  "nbformat": 4,
  "nbformat_minor": 0,
  "metadata": {
    "colab": {
      "name": "multiclass classification_myself.ipynb",
      "provenance": [],
      "collapsed_sections": [],
      "authorship_tag": "ABX9TyPTzbNiMS8mGZ7zs8U5nTgD",
      "include_colab_link": true
    },
    "kernelspec": {
      "name": "python3",
      "display_name": "Python 3"
    },
    "language_info": {
      "name": "python"
    },
    "accelerator": "GPU",
    "gpuClass": "standard"
  },
  "cells": [
    {
      "cell_type": "markdown",
      "metadata": {
        "id": "view-in-github",
        "colab_type": "text"
      },
      "source": [
        "<a href=\"https://colab.research.google.com/github/wjddn1892/colaboratory/blob/main/multiclass_classification_myself.ipynb\" target=\"_parent\"><img src=\"https://colab.research.google.com/assets/colab-badge.svg\" alt=\"Open In Colab\"/></a>"
      ]
    },
    {
      "cell_type": "code",
      "execution_count": null,
      "metadata": {
        "id": "DFwYu9GqKxix"
      },
      "outputs": [],
      "source": [
        "import torch\n",
        "from torchvision import datasets, transforms\n",
        "import matplotlib.pyplot as plt"
      ]
    },
    {
      "cell_type": "markdown",
      "source": [
        "## 구글 드라이브와 연동 (코랩 새로 결 때마다 지워지기 때문에)"
      ],
      "metadata": {
        "id": "RfFyrGYjLkbO"
      }
    },
    {
      "cell_type": "code",
      "source": [
        "from google.colab import drive\n",
        "drive.mount('/content/drive')"
      ],
      "metadata": {
        "colab": {
          "base_uri": "https://localhost:8080/"
        },
        "id": "jYu6vmtmLJHt",
        "outputId": "31717ab2-f086-44e3-c990-fbdf4f83a0e6"
      },
      "execution_count": null,
      "outputs": [
        {
          "output_type": "stream",
          "name": "stdout",
          "text": [
            "Mounted at /content/drive\n"
          ]
        }
      ]
    },
    {
      "cell_type": "markdown",
      "source": [
        "## 구글 GPU 사용"
      ],
      "metadata": {
        "id": "yXt1wo6HL8Ke"
      }
    },
    {
      "cell_type": "code",
      "source": [
        "device = 'cuda' if torch.cuda.is_available() else 'cpu'\n",
        "print(device)"
      ],
      "metadata": {
        "colab": {
          "base_uri": "https://localhost:8080/"
        },
        "id": "Pj7IW0r3LqJX",
        "outputId": "c0fac078-d9f3-448c-d723-ce1e65da2eb0"
      },
      "execution_count": null,
      "outputs": [
        {
          "output_type": "stream",
          "name": "stdout",
          "text": [
            "cuda\n"
          ]
        }
      ]
    },
    {
      "cell_type": "markdown",
      "source": [
        "## train_DS와 test_DS 구경"
      ],
      "metadata": {
        "id": "a5Dnd7V9PpS7"
      }
    },
    {
      "cell_type": "code",
      "source": [
        "torch.cuda.is_available()"
      ],
      "metadata": {
        "colab": {
          "base_uri": "https://localhost:8080/"
        },
        "id": "jPt2BmjpMDKO",
        "outputId": "de34938e-4044-468a-bd8b-263e78822d2d"
      },
      "execution_count": null,
      "outputs": [
        {
          "output_type": "execute_result",
          "data": {
            "text/plain": [
              "True"
            ]
          },
          "metadata": {},
          "execution_count": 7
        }
      ]
    },
    {
      "cell_type": "code",
      "source": [
        "transform = transforms.ToTensor()\n",
        "train_DS = datasets.MNIST(root='/content/drive/MyDrive/Colab Notebooks/data', train=True, download=True, transform=transform)\n",
        "test_DS = datasets.MNIST(root='/content/drive/MyDrive/Colab Notebooks/data', train=False, download=True, transform=transform)\n",
        "# %ls"
      ],
      "metadata": {
        "id": "n0V4OeqzMODK"
      },
      "execution_count": null,
      "outputs": []
    },
    {
      "cell_type": "code",
      "source": [
        "print(train_DS)\n",
        "print(test_DS)\n",
        "print(len(train_DS))\n",
        "# N = len(train_DS)\n",
        "print(len(test_DS))"
      ],
      "metadata": {
        "colab": {
          "base_uri": "https://localhost:8080/"
        },
        "id": "CeEHtzXAM8Dn",
        "outputId": "38337d4c-0669-455b-99f9-f4debce72257"
      },
      "execution_count": null,
      "outputs": [
        {
          "output_type": "stream",
          "name": "stdout",
          "text": [
            "Dataset MNIST\n",
            "    Number of datapoints: 60000\n",
            "    Root location: /content/drive/MyDrive/Colab Notebooks/data\n",
            "    Split: Train\n",
            "    StandardTransform\n",
            "Transform: ToTensor()\n",
            "Dataset MNIST\n",
            "    Number of datapoints: 10000\n",
            "    Root location: /content/drive/MyDrive/Colab Notebooks/data\n",
            "    Split: Test\n",
            "    StandardTransform\n",
            "Transform: ToTensor()\n",
            "60000\n",
            "10000\n"
          ]
        }
      ]
    },
    {
      "cell_type": "code",
      "source": [
        "train_DS.classes  # . 뒤에서 탭 누르면 이것 저것 볼 수 있는 게 뜬다"
      ],
      "metadata": {
        "colab": {
          "base_uri": "https://localhost:8080/"
        },
        "id": "3tbGukWxNTyN",
        "outputId": "97b8d6ff-f24c-4a3f-d2bd-9068ec449f4c"
      },
      "execution_count": null,
      "outputs": [
        {
          "output_type": "execute_result",
          "data": {
            "text/plain": [
              "['0 - zero',\n",
              " '1 - one',\n",
              " '2 - two',\n",
              " '3 - three',\n",
              " '4 - four',\n",
              " '5 - five',\n",
              " '6 - six',\n",
              " '7 - seven',\n",
              " '8 - eight',\n",
              " '9 - nine']"
            ]
          },
          "metadata": {},
          "execution_count": 10
        }
      ]
    },
    {
      "cell_type": "code",
      "source": [
        "train_DS.class_to_idx"
      ],
      "metadata": {
        "colab": {
          "base_uri": "https://localhost:8080/"
        },
        "id": "Y8kAawvENslm",
        "outputId": "d614d877-44bb-4101-e2a3-1e0132995730"
      },
      "execution_count": null,
      "outputs": [
        {
          "output_type": "execute_result",
          "data": {
            "text/plain": [
              "{'0 - zero': 0,\n",
              " '1 - one': 1,\n",
              " '2 - two': 2,\n",
              " '3 - three': 3,\n",
              " '4 - four': 4,\n",
              " '5 - five': 5,\n",
              " '6 - six': 6,\n",
              " '7 - seven': 7,\n",
              " '8 - eight': 8,\n",
              " '9 - nine': 9}"
            ]
          },
          "metadata": {},
          "execution_count": 11
        }
      ]
    },
    {
      "cell_type": "code",
      "source": [
        "train_DS.data.shape"
      ],
      "metadata": {
        "colab": {
          "base_uri": "https://localhost:8080/"
        },
        "id": "GXxGNGPwOew_",
        "outputId": "e45bdd00-e974-4f6a-d018-a41cdadcbc39"
      },
      "execution_count": null,
      "outputs": [
        {
          "output_type": "execute_result",
          "data": {
            "text/plain": [
              "torch.Size([60000, 28, 28])"
            ]
          },
          "metadata": {},
          "execution_count": 12
        }
      ]
    },
    {
      "cell_type": "code",
      "source": [
        "train_DS.data[0]"
      ],
      "metadata": {
        "colab": {
          "base_uri": "https://localhost:8080/"
        },
        "id": "Ib8EfmbHOhBy",
        "outputId": "45ce5595-5de3-4a81-e64a-cb629f58fcf4"
      },
      "execution_count": null,
      "outputs": [
        {
          "output_type": "execute_result",
          "data": {
            "text/plain": [
              "tensor([[  0,   0,   0,   0,   0,   0,   0,   0,   0,   0,   0,   0,   0,   0,\n",
              "           0,   0,   0,   0,   0,   0,   0,   0,   0,   0,   0,   0,   0,   0],\n",
              "        [  0,   0,   0,   0,   0,   0,   0,   0,   0,   0,   0,   0,   0,   0,\n",
              "           0,   0,   0,   0,   0,   0,   0,   0,   0,   0,   0,   0,   0,   0],\n",
              "        [  0,   0,   0,   0,   0,   0,   0,   0,   0,   0,   0,   0,   0,   0,\n",
              "           0,   0,   0,   0,   0,   0,   0,   0,   0,   0,   0,   0,   0,   0],\n",
              "        [  0,   0,   0,   0,   0,   0,   0,   0,   0,   0,   0,   0,   0,   0,\n",
              "           0,   0,   0,   0,   0,   0,   0,   0,   0,   0,   0,   0,   0,   0],\n",
              "        [  0,   0,   0,   0,   0,   0,   0,   0,   0,   0,   0,   0,   0,   0,\n",
              "           0,   0,   0,   0,   0,   0,   0,   0,   0,   0,   0,   0,   0,   0],\n",
              "        [  0,   0,   0,   0,   0,   0,   0,   0,   0,   0,   0,   0,   3,  18,\n",
              "          18,  18, 126, 136, 175,  26, 166, 255, 247, 127,   0,   0,   0,   0],\n",
              "        [  0,   0,   0,   0,   0,   0,   0,   0,  30,  36,  94, 154, 170, 253,\n",
              "         253, 253, 253, 253, 225, 172, 253, 242, 195,  64,   0,   0,   0,   0],\n",
              "        [  0,   0,   0,   0,   0,   0,   0,  49, 238, 253, 253, 253, 253, 253,\n",
              "         253, 253, 253, 251,  93,  82,  82,  56,  39,   0,   0,   0,   0,   0],\n",
              "        [  0,   0,   0,   0,   0,   0,   0,  18, 219, 253, 253, 253, 253, 253,\n",
              "         198, 182, 247, 241,   0,   0,   0,   0,   0,   0,   0,   0,   0,   0],\n",
              "        [  0,   0,   0,   0,   0,   0,   0,   0,  80, 156, 107, 253, 253, 205,\n",
              "          11,   0,  43, 154,   0,   0,   0,   0,   0,   0,   0,   0,   0,   0],\n",
              "        [  0,   0,   0,   0,   0,   0,   0,   0,   0,  14,   1, 154, 253,  90,\n",
              "           0,   0,   0,   0,   0,   0,   0,   0,   0,   0,   0,   0,   0,   0],\n",
              "        [  0,   0,   0,   0,   0,   0,   0,   0,   0,   0,   0, 139, 253, 190,\n",
              "           2,   0,   0,   0,   0,   0,   0,   0,   0,   0,   0,   0,   0,   0],\n",
              "        [  0,   0,   0,   0,   0,   0,   0,   0,   0,   0,   0,  11, 190, 253,\n",
              "          70,   0,   0,   0,   0,   0,   0,   0,   0,   0,   0,   0,   0,   0],\n",
              "        [  0,   0,   0,   0,   0,   0,   0,   0,   0,   0,   0,   0,  35, 241,\n",
              "         225, 160, 108,   1,   0,   0,   0,   0,   0,   0,   0,   0,   0,   0],\n",
              "        [  0,   0,   0,   0,   0,   0,   0,   0,   0,   0,   0,   0,   0,  81,\n",
              "         240, 253, 253, 119,  25,   0,   0,   0,   0,   0,   0,   0,   0,   0],\n",
              "        [  0,   0,   0,   0,   0,   0,   0,   0,   0,   0,   0,   0,   0,   0,\n",
              "          45, 186, 253, 253, 150,  27,   0,   0,   0,   0,   0,   0,   0,   0],\n",
              "        [  0,   0,   0,   0,   0,   0,   0,   0,   0,   0,   0,   0,   0,   0,\n",
              "           0,  16,  93, 252, 253, 187,   0,   0,   0,   0,   0,   0,   0,   0],\n",
              "        [  0,   0,   0,   0,   0,   0,   0,   0,   0,   0,   0,   0,   0,   0,\n",
              "           0,   0,   0, 249, 253, 249,  64,   0,   0,   0,   0,   0,   0,   0],\n",
              "        [  0,   0,   0,   0,   0,   0,   0,   0,   0,   0,   0,   0,   0,   0,\n",
              "          46, 130, 183, 253, 253, 207,   2,   0,   0,   0,   0,   0,   0,   0],\n",
              "        [  0,   0,   0,   0,   0,   0,   0,   0,   0,   0,   0,   0,  39, 148,\n",
              "         229, 253, 253, 253, 250, 182,   0,   0,   0,   0,   0,   0,   0,   0],\n",
              "        [  0,   0,   0,   0,   0,   0,   0,   0,   0,   0,  24, 114, 221, 253,\n",
              "         253, 253, 253, 201,  78,   0,   0,   0,   0,   0,   0,   0,   0,   0],\n",
              "        [  0,   0,   0,   0,   0,   0,   0,   0,  23,  66, 213, 253, 253, 253,\n",
              "         253, 198,  81,   2,   0,   0,   0,   0,   0,   0,   0,   0,   0,   0],\n",
              "        [  0,   0,   0,   0,   0,   0,  18, 171, 219, 253, 253, 253, 253, 195,\n",
              "          80,   9,   0,   0,   0,   0,   0,   0,   0,   0,   0,   0,   0,   0],\n",
              "        [  0,   0,   0,   0,  55, 172, 226, 253, 253, 253, 253, 244, 133,  11,\n",
              "           0,   0,   0,   0,   0,   0,   0,   0,   0,   0,   0,   0,   0,   0],\n",
              "        [  0,   0,   0,   0, 136, 253, 253, 253, 212, 135, 132,  16,   0,   0,\n",
              "           0,   0,   0,   0,   0,   0,   0,   0,   0,   0,   0,   0,   0,   0],\n",
              "        [  0,   0,   0,   0,   0,   0,   0,   0,   0,   0,   0,   0,   0,   0,\n",
              "           0,   0,   0,   0,   0,   0,   0,   0,   0,   0,   0,   0,   0,   0],\n",
              "        [  0,   0,   0,   0,   0,   0,   0,   0,   0,   0,   0,   0,   0,   0,\n",
              "           0,   0,   0,   0,   0,   0,   0,   0,   0,   0,   0,   0,   0,   0],\n",
              "        [  0,   0,   0,   0,   0,   0,   0,   0,   0,   0,   0,   0,   0,   0,\n",
              "           0,   0,   0,   0,   0,   0,   0,   0,   0,   0,   0,   0,   0,   0]],\n",
              "       dtype=torch.uint8)"
            ]
          },
          "metadata": {},
          "execution_count": 13
        }
      ]
    },
    {
      "cell_type": "code",
      "source": [
        "plt.imshow(train_DS.data[0], cmap='gray')\n",
        "plt.colorbar()"
      ],
      "metadata": {
        "colab": {
          "base_uri": "https://localhost:8080/",
          "height": 283
        },
        "id": "5A_gjqzKOt4h",
        "outputId": "e84043cb-10cf-42db-b9c1-9357b08776a9"
      },
      "execution_count": null,
      "outputs": [
        {
          "output_type": "execute_result",
          "data": {
            "text/plain": [
              "<matplotlib.colorbar.Colorbar at 0x7f87de0c9e90>"
            ]
          },
          "metadata": {},
          "execution_count": 14
        },
        {
          "output_type": "display_data",
          "data": {
            "text/plain": [
              "<Figure size 432x288 with 2 Axes>"
            ],
            "image/png": "[encoded data removed]"
          },
          "metadata": {
            "needs_background": "light"
          }
        }
      ]
    },
    {
      "cell_type": "code",
      "source": [
        "print(train_DS.targets)\n",
        "print(train_DS.targets.shape)"
      ],
      "metadata": {
        "colab": {
          "base_uri": "https://localhost:8080/"
        },
        "id": "UZ9SWnFiOyBF",
        "outputId": "76f5c235-9861-4ec9-e338-a517ec15a794"
      },
      "execution_count": null,
      "outputs": [
        {
          "output_type": "stream",
          "name": "stdout",
          "text": [
            "tensor([5, 0, 4,  ..., 5, 6, 8])\n",
            "torch.Size([60000])\n"
          ]
        }
      ]
    },
    {
      "cell_type": "markdown",
      "source": [
        "## DataLoader 구경"
      ],
      "metadata": {
        "id": "h3KLIgbGPiGT"
      }
    },
    {
      "cell_type": "code",
      "source": [
        "BATCH_SIZE = 32\n",
        "train_DL = torch.utils.data.DataLoader(train_DS, batch_size=BATCH_SIZE, shuffle=True)\n",
        "test_DL = torch.utils.data.DataLoader(test_DS, batch_size=BATCH_SIZE, shuffle=True)"
      ],
      "metadata": {
        "id": "Cau4UQauPf_x"
      },
      "execution_count": null,
      "outputs": []
    },
    {
      "cell_type": "code",
      "source": [
        "print(len(train_DL.dataset))"
      ],
      "metadata": {
        "colab": {
          "base_uri": "https://localhost:8080/"
        },
        "id": "_fBJlFbNQHJo",
        "outputId": "572e3dd0-e4d3-4e65-e73e-d89b3a405693"
      },
      "execution_count": null,
      "outputs": [
        {
          "output_type": "stream",
          "name": "stdout",
          "text": [
            "60000\n"
          ]
        }
      ]
    },
    {
      "cell_type": "code",
      "source": [
        "images, label = next(iter(train_DL))\n",
        "print(images.shape)\n",
        "print(label.shape)\n",
        "plt.imshow(images[0].squeeze(), cmap='gray')  # squeeze를 통해 (1, 28, 28)을 (28, 28)로 변환"
      ],
      "metadata": {
        "colab": {
          "base_uri": "https://localhost:8080/",
          "height": 319
        },
        "id": "75g-pKNmQL-9",
        "outputId": "b02c81cc-730f-421b-f217-8297240a43b8"
      },
      "execution_count": null,
      "outputs": [
        {
          "output_type": "stream",
          "name": "stdout",
          "text": [
            "torch.Size([32, 1, 28, 28])\n",
            "torch.Size([32])\n"
          ]
        },
        {
          "output_type": "execute_result",
          "data": {
            "text/plain": [
              "<matplotlib.image.AxesImage at 0x7f87de08a550>"
            ]
          },
          "metadata": {},
          "execution_count": 18
        },
        {
          "output_type": "display_data",
          "data": {
            "text/plain": [
              "<Figure size 432x288 with 1 Axes>"
            ],
            "image/png": "[encoded data removed]"
          },
          "metadata": {
            "needs_background": "light"
          }
        }
      ]
    },
    {
      "cell_type": "code",
      "source": [
        "a = iter([1, 2, 3])\n",
        "print(next(a))\n",
        "print(next(a))"
      ],
      "metadata": {
        "colab": {
          "base_uri": "https://localhost:8080/"
        },
        "id": "dQaSDrSvRBAf",
        "outputId": "67f1d8c3-eaad-41ed-8f13-8cd7cdf2d36a"
      },
      "execution_count": null,
      "outputs": [
        {
          "output_type": "stream",
          "name": "stdout",
          "text": [
            "1\n",
            "2\n"
          ]
        }
      ]
    },
    {
      "cell_type": "markdown",
      "source": [
        "## 본격적으로 model 만들기"
      ],
      "metadata": {
        "id": "UfNGLCipRP30"
      }
    },
    {
      "cell_type": "code",
      "source": [
        "from torch import nn, optim\n",
        "import torch.nn.functional as F\n",
        "\n",
        "class MLP(nn.Module):\n",
        "  def __init__(self):\n",
        "    super().__init__()\n",
        "    self.fcs = nn.Sequential(nn.Linear(784, 30),\n",
        "                             nn.BatchNorm1d(30),\n",
        "                             nn.ReLU(),  #  nn.Sigmoid(),\n",
        "                             nn.Linear(30, 10))\n",
        "  \n",
        "  def forward(self, x):\n",
        "    x = torch.flatten(x, start_dim=1)\n",
        "    x = self.fcs(x)\n",
        "    return x"
      ],
      "metadata": {
        "id": "FW5JxB-ZRSNF"
      },
      "execution_count": null,
      "outputs": []
    },
    {
      "cell_type": "code",
      "source": [
        "# flatten 확인\n",
        "images, label = next(iter(train_DL))\n",
        "print(images.shape)\n",
        "flat_images = torch.flatten(images)\n",
        "print(flat_images.shape)\n",
        "flat_images2 = torch.flatten(images, start_dim=1)\n",
        "print(flat_images2.shape)"
      ],
      "metadata": {
        "colab": {
          "base_uri": "https://localhost:8080/"
        },
        "id": "4RNhKd1xSNxC",
        "outputId": "f2b2e16b-baa1-4abb-98e1-bd6b1ff897fd"
      },
      "execution_count": null,
      "outputs": [
        {
          "output_type": "stream",
          "name": "stdout",
          "text": [
            "torch.Size([32, 1, 28, 28])\n",
            "torch.Size([25088])\n",
            "torch.Size([32, 784])\n"
          ]
        }
      ]
    },
    {
      "cell_type": "code",
      "source": [
        "model = MLP()\n",
        "print(model(images).shape)"
      ],
      "metadata": {
        "colab": {
          "base_uri": "https://localhost:8080/"
        },
        "id": "9jFUREyaTqu0",
        "outputId": "470af35c-cf85-4f9b-ca16-fd5050df0918"
      },
      "execution_count": null,
      "outputs": [
        {
          "output_type": "stream",
          "name": "stdout",
          "text": [
            "torch.Size([32, 10])\n"
          ]
        }
      ]
    },
    {
      "cell_type": "markdown",
      "source": [
        "## training 함수"
      ],
      "metadata": {
        "id": "aqqfWN-_cG-D"
      }
    },
    {
      "cell_type": "code",
      "source": [
        "LR = 1e-3\n",
        "epoch = 5\n",
        "\n",
        "\n",
        "def Train(model, train_DL):\n",
        "  # optimizer = optim.SGD(model.parameters(), lr=LR)\n",
        "  optimizer = optim.Adam(model.parameters(), lr=LR)\n",
        "\n",
        "  loss_hist = []\n",
        "  NoT = len(train_DL.dataset) # The Number of training data\n",
        "\n",
        "  model.train() # train mode로 전환\n",
        "\n",
        "  for ep in range(epoch):\n",
        "    rloss = 0  # running loss\n",
        "    for x_batch, y_batch in train_DL:\n",
        "      x_batch = x_batch.to(device)\n",
        "      y_batch = y_batch.to(device)  # gpu로 보내준다.\n",
        "      # inference\n",
        "      y_hat = model(x_batch)\n",
        "\n",
        "      # loss \n",
        "      loss = F.cross_entropy(y_hat, y_batch)\n",
        "      # loss = F.mse_loss(y_hat, y_batch)\n",
        "\n",
        "      # update\n",
        "      optimizer.zero_grad() # 초기화\n",
        "      loss.backward()\n",
        "      optimizer.step()\n",
        "\n",
        "      # loss accumulation\n",
        "      loss_b = loss.item() * x_batch.shape[0]  # batch loss # BATCH_SIZE를 곱하면 18개도 32를 곱하니까..\n",
        "      rloss += loss_b\n",
        "\n",
        "    # print loss\n",
        "    loss_e = rloss / NoT  # epoch loss\n",
        "    loss_hist += [loss_e]\n",
        "    print(f\"Epoch : {ep+1}, train loss : {round(loss_e, 3)}\")\n",
        "    print('-'*20)\n",
        "\n",
        "  return loss_hist"
      ],
      "metadata": {
        "id": "wAm8zGEBUarC"
      },
      "execution_count": null,
      "outputs": []
    },
    {
      "cell_type": "markdown",
      "source": [
        "## cross entropy 확인"
      ],
      "metadata": {
        "id": "T7jVrFegZ0hF"
      }
    },
    {
      "cell_type": "code",
      "source": [
        "# cross entropy 여러가지 방법\n",
        "input = torch.randn(3, 5)\n",
        "print(input)\n",
        "target = torch.randint(5, (3,))  # 0~4까지의 값\n",
        "print(target)\n",
        "\n",
        "# 방법 1\n",
        "loss = F.cross_entropy(input, target)\n",
        "print(loss)\n",
        "\n",
        "# 방법 2\n",
        "input_soft = F.softmax(input, dim=1)\n",
        "print(input_soft)\n",
        "loss2 = 0\n",
        "for i, val in enumerate(input_soft):\n",
        "  print(i, val)\n",
        "  loss2 += -torch.log(val[target[i]])\n",
        "loss2 = loss2 / input.shape[0]\n",
        "print(loss2)\n",
        "\n",
        "# 방법 3\n",
        "criterion = nn.CrossEntropyLoss()\n",
        "print(criterion(input, target))"
      ],
      "metadata": {
        "colab": {
          "base_uri": "https://localhost:8080/"
        },
        "id": "KOfYrpycWt0R",
        "outputId": "1f290b37-4e30-4c3a-bd76-2a265720778f"
      },
      "execution_count": null,
      "outputs": [
        {
          "output_type": "stream",
          "name": "stdout",
          "text": [
            "tensor([[-0.2077, -0.0333, -0.4445,  0.2570,  1.0828],\n",
            "        [-0.2850, -1.0152, -1.1075,  0.6928,  2.4446],\n",
            "        [ 2.0447, -0.3514, -1.0723,  0.0272, -0.5031]])\n",
            "tensor([3, 2, 1])\n",
            "tensor(2.7158)\n",
            "tensor([[0.1219, 0.1451, 0.0962, 0.1940, 0.4429],\n",
            "        [0.0502, 0.0242, 0.0221, 0.1335, 0.7699],\n",
            "        [0.7426, 0.0676, 0.0329, 0.0988, 0.0581]])\n",
            "0 tensor([0.1219, 0.1451, 0.0962, 0.1940, 0.4429])\n",
            "1 tensor([0.0502, 0.0242, 0.0221, 0.1335, 0.7699])\n",
            "2 tensor([0.7426, 0.0676, 0.0329, 0.0988, 0.0581])\n",
            "tensor(2.7158)\n",
            "tensor(2.7158)\n"
          ]
        }
      ]
    },
    {
      "cell_type": "markdown",
      "source": [
        "## 훈련하기"
      ],
      "metadata": {
        "id": "WZ0SjKtlcDiM"
      }
    },
    {
      "cell_type": "code",
      "source": [
        "model = MLP().to(device)\n",
        "loss_hist = Train(model, train_DL)\n",
        "\n",
        "plt.plot(range(1, epoch+1), loss_hist)\n",
        "plt.xlabel('Epoch')\n",
        "plt.ylabel('loss')\n",
        "plt.grid()  # 격자 생김"
      ],
      "metadata": {
        "colab": {
          "base_uri": "https://localhost:8080/",
          "height": 460
        },
        "id": "Ufg2hpn1bzhY",
        "outputId": "4fc158c7-f00a-4553-e906-69329c2c8f6e"
      },
      "execution_count": null,
      "outputs": [
        {
          "output_type": "stream",
          "name": "stdout",
          "text": [
            "Epoch : 1, train loss : 0.41\n",
            "--------------------\n",
            "Epoch : 2, train loss : 0.214\n",
            "--------------------\n",
            "Epoch : 3, train loss : 0.176\n",
            "--------------------\n",
            "Epoch : 4, train loss : 0.153\n",
            "--------------------\n",
            "Epoch : 5, train loss : 0.139\n",
            "--------------------\n"
          ]
        },
        {
          "output_type": "display_data",
          "data": {
            "text/plain": [
              "<Figure size 432x288 with 1 Axes>"
            ],
            "image/png": "[encoded data removed]"
          },
          "metadata": {
            "needs_background": "light"
          }
        }
      ]
    },
    {
      "cell_type": "code",
      "source": [
        "plt.plot(range(1, epoch+1), loss_hist)\n",
        "plt.xlabel('Epoch')\n",
        "plt.ylabel('loss')\n",
        "plt.title('Train loss')"
      ],
      "metadata": {
        "colab": {
          "base_uri": "https://localhost:8080/",
          "height": 313
        },
        "id": "BUT1ag-7clgv",
        "outputId": "a23dc11a-7d59-4344-e7b0-79e54788fa1d"
      },
      "execution_count": null,
      "outputs": [
        {
          "output_type": "execute_result",
          "data": {
            "text/plain": [
              "Text(0.5, 1.0, 'Train loss')"
            ]
          },
          "metadata": {},
          "execution_count": 52
        },
        {
          "output_type": "display_data",
          "data": {
            "text/plain": [
              "<Figure size 432x288 with 1 Axes>"
            ],
            "image/png": "[encoded data removed]"
          },
          "metadata": {
            "needs_background": "light"
          }
        }
      ]
    },
    {
      "cell_type": "markdown",
      "source": [
        "## 모델 저장하기 & 불러오기"
      ],
      "metadata": {
        "id": "HXsBPU-ydgzY"
      }
    },
    {
      "cell_type": "code",
      "source": [
        "save_model_path = '/content/drive/MyDrive/Colab Notebooks/data/results'\n",
        "torch.save(model.state_dict(), save_model_path)"
      ],
      "metadata": {
        "id": "6XTQ9wTRdiu7"
      },
      "execution_count": null,
      "outputs": []
    },
    {
      "cell_type": "code",
      "source": [
        "load_model = MLP().to(device)\n",
        "load_model.load_state_dict(torch.load(save_model_path)) # map_location 있어야 GPU로 학습했던 거 현재 device"
      ],
      "metadata": {
        "colab": {
          "base_uri": "https://localhost:8080/"
        },
        "id": "4S98O0aReeRJ",
        "outputId": "bfaa4a53-1600-4d06-eea9-aa58c24c237a"
      },
      "execution_count": null,
      "outputs": [
        {
          "output_type": "execute_result",
          "data": {
            "text/plain": [
              "<All keys matched successfully>"
            ]
          },
          "metadata": {},
          "execution_count": 54
        }
      ]
    },
    {
      "cell_type": "code",
      "source": [
        "def Test(model, test_DL):\n",
        "  NoTes = len(test_DL.dataset)\n",
        "  model.eval()\n",
        "  with torch.no_grad():\n",
        "    rcorrect = 0\n",
        "    for x_batch, y_batch in test_DL:\n",
        "      x_batch = x_batch.to(device)\n",
        "      y_batch = y_batch.to(device)\n",
        "\n",
        "      # inference\n",
        "      y_hat = model(x_batch)\n",
        "      # print(y_hat.shape)\n",
        "\n",
        "      # accuracy\n",
        "      pred = y_hat.argmax(dim=1)  # torch.argmax(y_hat, dim=1)과 같음\n",
        "      # print(pred)\n",
        "      # print(y_batch)\n",
        "      corrects_b = torch.sum(pred == y_batch).item()\n",
        "      rcorrect += corrects_b  # rcorrect는 running correct\n",
        "    \n",
        "    test_acc = rcorrect / NoTes * 100\n",
        "\n",
        "  print(f'Test accuracy: {rcorrect}/{NoTes} ({round(test_acc, 2)} %)')"
      ],
      "metadata": {
        "id": "CgCSPDN8e09t"
      },
      "execution_count": null,
      "outputs": []
    },
    {
      "cell_type": "code",
      "source": [
        "Test(load_model, test_DL)"
      ],
      "metadata": {
        "colab": {
          "base_uri": "https://localhost:8080/"
        },
        "id": "mfOP-0lcfBGb",
        "outputId": "f1bf0ce4-ad2f-4e8c-e714-f5cfcf3ea5f9"
      },
      "execution_count": null,
      "outputs": [
        {
          "output_type": "stream",
          "name": "stdout",
          "text": [
            "Test accuracy: 9650/10000 (96.5 %)\n"
          ]
        }
      ]
    },
    {
      "cell_type": "code",
      "source": [
        "load_model.eval()\n",
        "with torch.no_grad():\n",
        "    x_batch, y_batch = next(iter(test_DL))\n",
        "    x_batch = x_batch.to(device)\n",
        "    y_hat = model(x_batch)\n",
        "    pred= y_hat.argmax(dim=1)\n",
        "\n",
        "x_batch = x_batch.to('cpu')\n",
        "pred = pred.to('cpu')\n",
        "\n",
        "plt.figure(figsize=(8, 4))\n",
        "for idx in range(6):\n",
        "  plt.subplot(2, 3, idx+1, xticks=[], yticks=[])\n",
        "  plt.imshow(x_batch[idx, 0, ...], cmap='gray')\n",
        "  pred_class = test_DL.dataset.classes[pred[idx].item()]\n",
        "  true_class = test_DL.dataset.classes[y_batch[idx].item()]\n",
        "  plt.title(f'{pred_class} ({true_class})', color='g' if pred_class==true_class else 'r')"
      ],
      "metadata": {
        "colab": {
          "base_uri": "https://localhost:8080/",
          "height": 268
        },
        "id": "8B86FXE0iNO8",
        "outputId": "753a083b-c839-41ce-ccb2-32c47033beb5"
      },
      "execution_count": null,
      "outputs": [
        {
          "output_type": "display_data",
          "data": {
            "text/plain": [
              "<Figure size 576x288 with 6 Axes>"
            ],
            "image/png": "[encoded data removed]"
          },
          "metadata": {}
        }
      ]
    },
    {
      "cell_type": "code",
      "source": [
        "num = 0\n",
        "for param in load_model.parameters():\n",
        "    if param.requires_grad:\n",
        "        num += param.numel()\n",
        "print(num)"
      ],
      "metadata": {
        "colab": {
          "base_uri": "https://localhost:8080/"
        },
        "id": "TyEQmHS2i7ig",
        "outputId": "59dbc152-3d83-48f3-c9a5-0f4c7dc1aec3"
      },
      "execution_count": null,
      "outputs": [
        {
          "output_type": "stream",
          "name": "stdout",
          "text": [
            "23920\n"
          ]
        }
      ]
    }
  ]
}